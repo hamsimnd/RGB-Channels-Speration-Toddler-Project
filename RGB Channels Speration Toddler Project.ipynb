{
 "cells": [
  {
   "cell_type": "markdown",
   "id": "fde58633-d8c1-411b-84e5-214a8ab3b9aa",
   "metadata": {},
   "source": [
    "# Toddler Collor Coding Project"
   ]
  },
  {
   "cell_type": "markdown",
   "id": "c8c629fa-9a57-43df-b6c0-db416e122cc4",
   "metadata": {},
   "source": [
    "In this project we will apply  to split the color channels of an image, using Python and OpenCV.And get print then see what happens with red,blue,green plexies."
   ]
  },
  {
   "cell_type": "code",
   "execution_count": 1,
   "id": "6524ddf5-dd98-453a-8261-a4f2fb8778db",
   "metadata": {},
   "outputs": [],
   "source": [
    "# Import OpenCV library\n",
    "import cv2 \n",
    "import numpy as np\n",
    "from PIL import Image"
   ]
  },
  {
   "cell_type": "code",
   "execution_count": 2,
   "id": "e88aea78-07b2-4d28-acfc-56cd9cdb738b",
   "metadata": {},
   "outputs": [],
   "source": [
    "# Open/Read input image\n",
    "img=cv2.imread(\"limon-ile-zeytin.jpg\")"
   ]
  },
  {
   "cell_type": "code",
   "execution_count": 3,
   "id": "a233920b-cd60-4e22-8d3e-5c7b532ff7a2",
   "metadata": {},
   "outputs": [],
   "source": [
    "\n",
    "\n",
    "resized_image = cv2.resize(img, (283, 283)) \n"
   ]
  },
  {
   "cell_type": "code",
   "execution_count": 6,
   "id": "b45a6bf7-f68f-4fbc-b6e9-ad44e25d079f",
   "metadata": {},
   "outputs": [],
   "source": [
    "# Splitting the image into different color channels \n",
    "b,g,r=cv2.split(resized_image)\n",
    "cv2.imshow(\"Red\",r)\n",
    "cv2.imshow(\"Green\",g)\n",
    "cv2.imshow(\"Blue\",b)"
   ]
  },
  {
   "cell_type": "markdown",
   "id": "7f848ab0-7789-42b8-9857-90b18265d365",
   "metadata": {},
   "source": [
    "resized_image[np.where(np.all(resized_image[..., :3] == 255, -1))] = 0\n",
    "cv2.imwrite(\"transparent.png\", resized_image)"
   ]
  },
  {
   "cell_type": "code",
   "execution_count": 9,
   "id": "06ae0acd-15d5-4f75-803d-b073bd36a971",
   "metadata": {},
   "outputs": [
    {
     "name": "stdout",
     "output_type": "stream",
     "text": [
      "Resized Dimensions :  (283, 283, 3)\n"
     ]
    }
   ],
   "source": [
    "print('Resized Dimensions : ',resized_image.shape)"
   ]
  },
  {
   "cell_type": "code",
   "execution_count": null,
   "id": "06ef2396-8b52-416e-a7cc-27e7d686f6d0",
   "metadata": {},
   "outputs": [],
   "source": [
    "# Displays the output window untill any key is pressed\n",
    "cv.waitKey(0)\n"
   ]
  },
  {
   "cell_type": "code",
   "execution_count": 11,
   "id": "2598db92-ef53-457d-9a24-85aec3577969",
   "metadata": {},
   "outputs": [
    {
     "name": "stdout",
     "output_type": "stream",
     "text": [
      "Successful\n"
     ]
    }
   ],
   "source": [
    "\n",
    "from PIL import Image\n",
    " \n",
    "def convertImage():\n",
    "    img = Image.open(\"limon-ile-zeytin.jpg\")\n",
    "    img = img.convert(\"RGBA\")\n",
    " \n",
    "    datas = img.getdata()\n",
    " \n",
    "    newData = []\n",
    " \n",
    "    for item in datas:\n",
    "        if item[0] == 255 and item[1] == 255 and item[2] == 255:\n",
    "            newData.append((255, 255, 255, 0))\n",
    "        else:\n",
    "            newData.append(item)\n",
    " \n",
    "    img.putdata(newData)\n",
    "    img.save(\"./New.png\", \"PNG\")\n",
    "    print(\"Successful\")\n",
    " \n",
    "convertImage()"
   ]
  },
  {
   "cell_type": "code",
   "execution_count": null,
   "id": "c626caa7-c9d4-41ec-b149-5600bc2d2617",
   "metadata": {},
   "outputs": [],
   "source": []
  }
 ],
 "metadata": {
  "kernelspec": {
   "display_name": "Python 3 (ipykernel)",
   "language": "python",
   "name": "python3"
  },
  "language_info": {
   "codemirror_mode": {
    "name": "ipython",
    "version": 3
   },
   "file_extension": ".py",
   "mimetype": "text/x-python",
   "name": "python",
   "nbconvert_exporter": "python",
   "pygments_lexer": "ipython3",
   "version": "3.9.12"
  }
 },
 "nbformat": 4,
 "nbformat_minor": 5
}
